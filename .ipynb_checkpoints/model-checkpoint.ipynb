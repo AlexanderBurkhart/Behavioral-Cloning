{
 "cells": [
  {
   "cell_type": "code",
   "execution_count": 6,
   "metadata": {},
   "outputs": [
    {
     "name": "stdout",
     "output_type": "stream",
     "text": [
      "Train on 17025 samples, validate on 4257 samples\n",
      "Epoch 1/7\n",
      "17025/17025 [==============================] - 282s - loss: 0.0724 - val_loss: 0.0122\n",
      "Epoch 2/7\n",
      "17025/17025 [==============================] - 281s - loss: 0.0098 - val_loss: 0.0101\n",
      "Epoch 3/7\n",
      "17025/17025 [==============================] - 281s - loss: 0.0089 - val_loss: 0.0097\n",
      "Epoch 4/7\n",
      "17025/17025 [==============================] - 281s - loss: 0.0086 - val_loss: 0.0097\n",
      "Epoch 5/7\n",
      "17025/17025 [==============================] - 281s - loss: 0.0083 - val_loss: 0.0095\n",
      "Epoch 6/7\n",
      "17025/17025 [==============================] - 281s - loss: 0.0081 - val_loss: 0.0095\n",
      "Epoch 7/7\n",
      "17025/17025 [==============================] - 294s - loss: 0.0078 - val_loss: 0.0099\n"
     ]
    }
   ],
   "source": [
    "import csv\n",
    "import cv2\n",
    "import numpy as np\n",
    "from PIL import Image\n",
    "\n",
    "lines = []\n",
    "with open('data/driving_log.csv') as csvfile:\n",
    "    reader = csv.reader(csvfile)\n",
    "    for line in reader:\n",
    "        lines.append(line)\n",
    "\n",
    "images = []\n",
    "measurements = []\n",
    "for line in lines:\n",
    "    for i in range(3):\n",
    "        source_path = line[i]\n",
    "        filename = source_path.split('/')[-1]\n",
    "        current_path = filename\n",
    "        image = cv2.imread(current_path)\n",
    "        images.append(image)\n",
    "        measurement = float(line[3])\n",
    "        measurements.append(measurement)\n",
    "\n",
    "changed_images = []\n",
    "changed_measurements = []\n",
    "\n",
    "for image,measurement in zip(images, measurements):\n",
    "    changed_images.append(image)\n",
    "    changed_measurements.append(measurement)\n",
    "    changed_images.append(cv2.flip(image, 1))\n",
    "    changed_measurements.append(measurement*-1.0)\n",
    "\n",
    "X_train = np.array(changed_images)\n",
    "y_train = np.array(changed_measurements)\n",
    "\n",
    "from keras.models import Sequential\n",
    "from keras.layers import Flatten, Dense, Lambda, Cropping2D\n",
    "from keras.layers.convolutional import Convolution2D\n",
    "from keras.layers.pooling import MaxPooling2D\n",
    "\n",
    "model = Sequential()\n",
    "model.add(Lambda(lambda x: x /255.0 - 0.5, input_shape=(160,320,3)))\n",
    "model.add(Cropping2D(cropping=((70,25),(0,0))))\n",
    "model.add(Convolution2D(24,5,5,subsample=(2,2), activation=\"relu\"))\n",
    "model.add(Convolution2D(36,5,5,subsample=(2,2),activation=\"relu\"))\n",
    "model.add(Convolution2D(48,5,5,subsample=(2,2),activation=\"relu\"))\n",
    "model.add(Convolution2D(64,3,3,activation=\"relu\"))\n",
    "model.add(Convlultion2D(64,4,4,activation=\"relu\"))\n",
    "model.add(Flatten())\n",
    "model.add(Dense(100))\n",
    "model.add(Dense(50))\n",
    "model.add(Dense(1))\n",
    "\n",
    "model.compile(loss='mse', optimizer='adam')\n",
    "model.fit(X_train, y_train, validation_split=0.2, shuffle=True, nb_epoch=7)\n",
    "\n",
    "model.save('model.h5')"
   ]
  },
  {
   "cell_type": "code",
   "execution_count": null,
   "metadata": {
    "collapsed": true
   },
   "outputs": [],
   "source": []
  },
  {
   "cell_type": "code",
   "execution_count": null,
   "metadata": {
    "collapsed": true
   },
   "outputs": [],
   "source": []
  }
 ],
 "metadata": {
  "kernelspec": {
   "display_name": "Python 3",
   "language": "python",
   "name": "python3"
  },
  "language_info": {
   "codemirror_mode": {
    "name": "ipython",
    "version": 3
   },
   "file_extension": ".py",
   "mimetype": "text/x-python",
   "name": "python",
   "nbconvert_exporter": "python",
   "pygments_lexer": "ipython3",
   "version": "3.5.2"
  },
  "widgets": {
   "state": {},
   "version": "1.1.2"
  }
 },
 "nbformat": 4,
 "nbformat_minor": 2
}
